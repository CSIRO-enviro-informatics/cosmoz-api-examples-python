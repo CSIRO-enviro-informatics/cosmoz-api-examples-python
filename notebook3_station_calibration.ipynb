{
 "cells": [
  {
   "cell_type": "markdown",
   "source": [
    "## Example 3: Station Calibration\n",
    "\n",
    "This example gets all the Calibration records for a given Cosmoz station\n"
   ],
   "metadata": {
    "collapsed": false,
    "pycharm": {
     "name": "#%% md\n"
    }
   }
  },
  {
   "cell_type": "code",
   "execution_count": 1,
   "outputs": [],
   "source": [
    "# Do some imports\n",
    "from urllib.request import Request, urlopen\n",
    "from urllib.parse import urljoin\n",
    "import json"
   ],
   "metadata": {
    "collapsed": false,
    "pycharm": {
     "name": "#%%\n",
     "is_executing": false
    }
   }
  },
  {
   "cell_type": "code",
   "execution_count": 2,
   "outputs": [],
   "source": [
    "# Set up a known api endpoint base URL\n",
    "COSMOZ_API_URL = \"https://esoil.io/cosmoz-data-pipeline/rest/\" \n",
    "\n",
    "# Set const for which station number to request:\n",
    "STATION_NUMBER = 21"
   ],
   "metadata": {
    "collapsed": false,
    "pycharm": {
     "name": "#%%\n",
     "is_executing": false
    }
   }
  },
  {
   "cell_type": "code",
   "execution_count": 3,
   "outputs": [],
   "source": [
    "# Endpoint to get a station's calibrations is \"pipeline/rest/stations/{id}/calibration\"\n",
    "stations_endpoint = urljoin(COSMOZ_API_URL, \"stations/\")\n",
    "station_endpoint = urljoin(stations_endpoint, \"{}/\".format(str(STATION_NUMBER)))\n",
    "station_cal_endpoint = urljoin(station_endpoint, \"calibration\")"
   ],
   "metadata": {
    "collapsed": false,
    "pycharm": {
     "name": "#%%\n",
     "is_executing": false
    }
   }
  },
  {
   "cell_type": "code",
   "execution_count": 4,
   "outputs": [],
   "source": [
    "# Add a header to specifically ask for JSON output\n",
    "request_headers = {\"Accept\": \"application/json\"}\n",
    "\n",
    "# Construct a GET request, with that URL and those headers\n",
    "station_cal_request = Request(station_cal_endpoint, method=\"GET\", headers=request_headers)"
   ],
   "metadata": {
    "collapsed": false,
    "pycharm": {
     "name": "#%%\n",
     "is_executing": false
    }
   }
  },
  {
   "cell_type": "code",
   "execution_count": 5,
   "outputs": [
    {
     "name": "stdout",
     "text": [
      "sending request...\n",
      "response received successfully\n"
     ],
     "output_type": "stream"
    }
   ],
   "source": [
    "print(\"sending request...\")\n",
    "# Execute the request, and wait for the response.\n",
    "with urlopen(station_cal_request) as http_response:\n",
    "    try:\n",
    "        response = http_response.read()\n",
    "    except Exception:\n",
    "        raise RuntimeError(\"Cannot read HTTP Response\")\n",
    "    try:\n",
    "        payload = json.loads(response)\n",
    "    except Exception:\n",
    "        raise RuntimeError(\"Invalid JSON response\")\n",
    "    print(\"response received successfully\")"
   ],
   "metadata": {
    "collapsed": false,
    "pycharm": {
     "name": "#%%\n",
     "is_executing": false
    }
   }
  },
  {
   "cell_type": "code",
   "execution_count": 6,
   "outputs": [
    {
     "name": "stdout",
     "text": [
      "Found 72 calibrations for station 21.\n",
      "meta: {'count': 72, 'offset': 0}\n",
      "calibrations: [{'date': '2016-07-25', 'label': '1', 'loc': '1', 'depth': '0 to 5 cm', 'vol': 'Vol.', 'total_wet': 307.88, 'total_dry': 251.98, 'tare': 11.8, 'soil_wet': 296.07, 'soil_dry': 240.17, 'gwc': 23.27, 'bd': 1.17, 'vwc': 27.45, 'site_no': 21}, {'date': '2016-07-25', 'label': '2', 'loc': '1', 'depth': '10 to 15 cm', 'vol': 'Vol.', 'total_wet': 316.33, 'total_dry': 250.25, 'tare': 11.8, 'soil_wet': 304.52, 'soil_dry': 238.44, 'gwc': 27.71, 'bd': 1.17, 'vwc': 32.45, 'site_no': 21}, {'date': '2016-07-25', 'label': '3', 'loc': '1', 'depth': '25 to 30 cm', 'vol': 'Vol.', 'total_wet': 336.87, 'total_dry': 301.59, 'tare': 11.8, 'soil_wet': 325.06, 'soil_dry': 289.78, 'gwc': 12.17, 'bd': 1.42, 'vwc': 17.33, 'site_no': 21}, {'date': '2016-07-25', 'label': '4', 'loc': '2', 'depth': '0 to 5 cm', 'vol': 'Vol.', 'total_wet': 211.79, 'total_dry': 180.09, 'tare': 11.8, 'soil_wet': 199.98, 'soil_dry': 168.28, 'gwc': 18.83, 'bd': 0.82, 'vwc': 15.57, 'site_no': 21}, {'date': '2016-07-25', 'label': '5', 'loc': '2', 'depth': '10 to 15 cm', 'vol': 'Vol.', 'total_wet': 242.17, 'total_dry': 192.07, 'tare': 11.8, 'soil_wet': 230.36, 'soil_dry': 180.26, 'gwc': 27.79, 'bd': 0.88, 'vwc': 24.61, 'site_no': 21}, {'date': '2016-07-25', 'label': '6', 'loc': '2', 'depth': '25 to 30 cm', 'vol': 'Vol.', 'total_wet': 356.67, 'total_dry': 282.65, 'tare': 11.8, 'soil_wet': 344.86, 'soil_dry': 270.84, 'gwc': 27.32, 'bd': 1.33, 'vwc': 36.36, 'site_no': 21}, {'date': '2016-07-25', 'label': '7', 'loc': '3', 'depth': '0 to 5 cm', 'vol': 'Vol.', 'total_wet': 182.35, 'total_dry': 153.14, 'tare': 11.8, 'soil_wet': 170.54, 'soil_dry': 141.33, 'gwc': 20.66, 'bd': 0.69, 'vwc': 14.34, 'site_no': 21}, {'date': '2016-07-25', 'label': '8', 'loc': '3', 'depth': '10 to 15 cm', 'vol': 'Vol.', 'total_wet': 240.7, 'total_dry': 187.8, 'tare': 11.8, 'soil_wet': 228.89, 'soil_dry': 175.99, 'gwc': 30.05, 'bd': 0.86, 'vwc': 25.98, 'site_no': 21}, {'date': '2016-07-25', 'label': '9', 'loc': '3', 'depth': '25 to 30 cm', 'vol': 'Vol.', 'total_wet': 373.7, 'total_dry': 294.25, 'tare': 11.8, 'soil_wet': 361.89, 'soil_dry': 282.44, 'gwc': 28.12, 'bd': 1.38, 'vwc': 39.02, 'site_no': 21}, {'date': '2016-07-25', 'label': '10', 'loc': '4', 'depth': '0 to 5 cm', 'vol': 'Vol.', 'total_wet': 176.8, 'total_dry': 152.59, 'tare': 11.8, 'soil_wet': 164.99, 'soil_dry': 140.78, 'gwc': 17.19, 'bd': 0.69, 'vwc': 11.89, 'site_no': 21}, {'date': '2016-07-25', 'label': '11', 'loc': '4', 'depth': '10 to 15 cm', 'vol': 'Vol.', 'total_wet': 240.92, 'total_dry': 203.5, 'tare': 11.8, 'soil_wet': 229.11, 'soil_dry': 191.69, 'gwc': 19.52, 'bd': 0.94, 'vwc': 18.38, 'site_no': 21}, {'date': '2016-07-25', 'label': '12', 'loc': '4', 'depth': '25 to 30 cm', 'vol': 'Vol.', 'total_wet': 376.2, 'total_dry': 300.45, 'tare': 11.8, 'soil_wet': 364.39, 'soil_dry': 288.64, 'gwc': 26.24, 'bd': 1.41, 'vwc': 37.2, 'site_no': 21}, {'date': '2016-07-25', 'label': '13', 'loc': '5', 'depth': '0 to 5 cm', 'vol': 'Vol.', 'total_wet': 297.19, 'total_dry': 247.41, 'tare': 11.8, 'soil_wet': 285.38, 'soil_dry': 235.6, 'gwc': 21.12, 'bd': 1.15, 'vwc': 24.45, 'site_no': 21}, {'date': '2016-07-25', 'label': '14', 'loc': '5', 'depth': '10 to 15 cm', 'vol': 'Vol.', 'total_wet': 297.0, 'total_dry': 235.53, 'tare': 11.8, 'soil_wet': 285.19, 'soil_dry': 223.72, 'gwc': 27.47, 'bd': 1.09, 'vwc': 30.19, 'site_no': 21}, {'date': '2016-07-25', 'label': '15', 'loc': '5', 'depth': '25 to 30 cm', 'vol': 'Vol.', 'total_wet': 313.51, 'total_dry': 255.11, 'tare': 11.8, 'soil_wet': 301.7, 'soil_dry': 243.3, 'gwc': 24.0, 'bd': 1.19, 'vwc': 28.68, 'site_no': 21}, {'date': '2016-07-25', 'label': '16', 'loc': '6', 'depth': '0 to 5 cm', 'vol': 'Vol.', 'total_wet': 261.97, 'total_dry': 231.75, 'tare': 11.8, 'soil_wet': 250.16, 'soil_dry': 219.94, 'gwc': 13.73, 'bd': 1.08, 'vwc': 14.84, 'site_no': 21}, {'date': '2016-07-25', 'label': '17', 'loc': '6', 'depth': '10 to 15 cm', 'vol': 'Vol.', 'total_wet': 256.49, 'total_dry': 219.72, 'tare': 11.8, 'soil_wet': 244.68, 'soil_dry': 207.91, 'gwc': 17.68, 'bd': 1.02, 'vwc': 18.06, 'site_no': 21}, {'date': '2016-07-25', 'label': '18', 'loc': '6', 'depth': '25 to 30 cm', 'vol': 'Vol.', 'total_wet': 316.69, 'total_dry': 254.44, 'tare': 11.8, 'soil_wet': 304.88, 'soil_dry': 242.63, 'gwc': 25.65, 'bd': 1.19, 'vwc': 30.57, 'site_no': 21}, {'date': '2016-07-25', 'label': '19', 'loc': '7', 'depth': '0 to 5 cm', 'vol': 'Vol.', 'total_wet': 255.54, 'total_dry': 222.47, 'tare': 11.8, 'soil_wet': 243.73, 'soil_dry': 210.66, 'gwc': 15.69, 'bd': 1.03, 'vwc': 16.24, 'site_no': 21}, {'date': '2016-07-25', 'label': '20', 'loc': '7', 'depth': '10 to 15 cm', 'vol': 'Vol.', 'total_wet': 238.14, 'total_dry': 205.95, 'tare': 11.8, 'soil_wet': 226.33, 'soil_dry': 194.14, 'gwc': 16.58, 'bd': 0.95, 'vwc': 15.81, 'site_no': 21}, {'date': '2016-07-25', 'label': '21', 'loc': '7', 'depth': '25 to 30 cm', 'vol': 'Vol.', 'total_wet': 328.38, 'total_dry': 288.55, 'tare': 11.8, 'soil_wet': 316.57, 'soil_dry': 276.74, 'gwc': 14.39, 'bd': 1.35, 'vwc': 19.56, 'site_no': 21}, {'date': '2016-07-25', 'label': '22', 'loc': '8', 'depth': '0 to 5 cm', 'vol': 'Vol.', 'total_wet': 239.06, 'total_dry': 212.49, 'tare': 11.8, 'soil_wet': 227.25, 'soil_dry': 200.68, 'gwc': 13.23, 'bd': 0.98, 'vwc': 13.05, 'site_no': 21}, {'date': '2016-07-25', 'label': '23', 'loc': '8', 'depth': '10 to 15 cm', 'vol': 'Vol.', 'total_wet': 240.64, 'total_dry': 188.46, 'tare': 11.8, 'soil_wet': 228.83, 'soil_dry': 176.65, 'gwc': 29.53, 'bd': 0.86, 'vwc': 25.63, 'site_no': 21}, {'date': '2016-07-25', 'label': '24', 'loc': '8', 'depth': '25 to 30 cm', 'vol': 'Vol.', 'total_wet': 275.0, 'total_dry': 216.14, 'tare': 11.8, 'soil_wet': 263.19, 'soil_dry': 204.33, 'gwc': 28.8, 'bd': 1.0, 'vwc': 28.91, 'site_no': 21}, {'date': '2016-07-25', 'label': '25', 'loc': '9', 'depth': '0 to 5 cm', 'vol': 'Grav.', 'total_wet': 98.93, 'total_dry': 85.8, 'tare': 4.5, 'soil_wet': 94.42, 'soil_dry': 81.29, 'gwc': 16.15, 'bd': 0.0, 'vwc': 14.67, 'site_no': 21}, {'date': '2016-07-25', 'label': '26', 'loc': '9', 'depth': '10 to 15 cm', 'vol': 'Grav.', 'total_wet': 73.56, 'total_dry': 59.31, 'tare': 4.5, 'soil_wet': 69.05, 'soil_dry': 54.8, 'gwc': 26.0, 'bd': 0.0, 'vwc': 24.71, 'site_no': 21}, {'date': '2016-07-25', 'label': '27', 'loc': '9', 'depth': '25 to 30 cm', 'vol': 'Grav.', 'total_wet': 69.02, 'total_dry': 55.81, 'tare': 4.5, 'soil_wet': 64.51, 'soil_dry': 51.3, 'gwc': 25.74, 'bd': 0.0, 'vwc': 31.95, 'site_no': 21}, {'date': '2016-07-25', 'label': '28', 'loc': '10', 'depth': '0 to 5 cm', 'vol': 'Vol.', 'total_wet': 226.26, 'total_dry': 187.02, 'tare': 11.8, 'soil_wet': 214.45, 'soil_dry': 175.21, 'gwc': 22.39, 'bd': 0.86, 'vwc': 19.27, 'site_no': 21}, {'date': '2016-07-25', 'label': '29', 'loc': '10', 'depth': '10 to 15 cm', 'vol': 'Vol.', 'total_wet': 234.98, 'total_dry': 186.27, 'tare': 11.8, 'soil_wet': 223.17, 'soil_dry': 174.46, 'gwc': 27.91, 'bd': 0.85, 'vwc': 23.92, 'site_no': 21}, {'date': '2016-07-25', 'label': '30', 'loc': '10', 'depth': '25 to 30 cm', 'vol': 'Vol.', 'total_wet': 303.47, 'total_dry': 239.99, 'tare': 11.8, 'soil_wet': 291.66, 'soil_dry': 228.18, 'gwc': 27.81, 'bd': 1.12, 'vwc': 31.18, 'site_no': 21}, {'date': '2016-07-25', 'label': '31', 'loc': '11', 'depth': '0 to 5 cm', 'vol': 'Grav.', 'total_wet': 66.6, 'total_dry': 53.97, 'tare': 4.5, 'soil_wet': 62.09, 'soil_dry': 49.46, 'gwc': 25.53, 'bd': 0.0, 'vwc': 23.2, 'site_no': 21}, {'date': '2016-07-25', 'label': '32', 'loc': '11', 'depth': '10 to 15 cm', 'vol': 'Grav.', 'total_wet': 57.2, 'total_dry': 45.94, 'tare': 4.5, 'soil_wet': 52.69, 'soil_dry': 41.43, 'gwc': 27.17, 'bd': 0.0, 'vwc': 25.83, 'site_no': 21}, {'date': '2016-07-25', 'label': '33', 'loc': '11', 'depth': '25 to 30 cm', 'vol': 'Grav.', 'total_wet': 63.65, 'total_dry': 50.94, 'tare': 4.5, 'soil_wet': 59.14, 'soil_dry': 46.43, 'gwc': 27.37, 'bd': 0.0, 'vwc': 33.97, 'site_no': 21}, {'date': '2016-07-25', 'label': '34', 'loc': '12', 'depth': '0 to 5 cm', 'vol': 'Vol.', 'total_wet': 170.53, 'total_dry': 143.72, 'tare': 11.8, 'soil_wet': 158.72, 'soil_dry': 131.91, 'gwc': 20.32, 'bd': 0.64, 'vwc': 13.16, 'site_no': 21}, {'date': '2016-07-25', 'label': '35', 'loc': '12', 'depth': '10 to 15 cm', 'vol': 'Vol.', 'total_wet': 257.16, 'total_dry': 201.88, 'tare': 11.8, 'soil_wet': 245.35, 'soil_dry': 190.07, 'gwc': 29.08, 'bd': 0.93, 'vwc': 27.15, 'site_no': 21}, {'date': '2016-07-25', 'label': '36', 'loc': '12', 'depth': '25 to 30 cm', 'vol': 'Vol.', 'total_wet': 281.2, 'total_dry': 219.65, 'tare': 11.8, 'soil_wet': 269.39, 'soil_dry': 207.84, 'gwc': 29.61, 'bd': 1.02, 'vwc': 30.23, 'site_no': 21}, {'date': '2016-07-25', 'label': '37', 'loc': '13', 'depth': '0 to 5 cm', 'vol': 'Grav.', 'total_wet': 59.27, 'total_dry': 49.18, 'tare': 4.5, 'soil_wet': 54.76, 'soil_dry': 44.67, 'gwc': 22.58, 'bd': 0.0, 'vwc': 20.52, 'site_no': 21}, {'date': '2016-07-25', 'label': '38', 'loc': '13', 'depth': '10 to 15 cm', 'vol': 'Grav.', 'total_wet': 56.91, 'total_dry': 46.18, 'tare': 4.5, 'soil_wet': 52.4, 'soil_dry': 41.67, 'gwc': 25.74, 'bd': 0.0, 'vwc': 24.47, 'site_no': 21}, {'date': '2016-07-25', 'label': '39', 'loc': '13', 'depth': '25 to 30 cm', 'vol': 'Grav.', 'total_wet': 65.7, 'total_dry': 53.5, 'tare': 4.5, 'soil_wet': 61.19, 'soil_dry': 48.99, 'gwc': 24.9, 'bd': 0.0, 'vwc': 30.9, 'site_no': 21}, {'date': '2016-07-25', 'label': '40', 'loc': '14', 'depth': '0 to 5 cm', 'vol': 'Vol.', 'total_wet': 205.64, 'total_dry': 172.93, 'tare': 11.8, 'soil_wet': 193.83, 'soil_dry': 161.12, 'gwc': 20.3, 'bd': 0.79, 'vwc': 16.06, 'site_no': 21}, {'date': '2016-07-25', 'label': '41', 'loc': '14', 'depth': '10 to 15 cm', 'vol': 'Vol.', 'total_wet': 238.52, 'total_dry': 188.71, 'tare': 11.8, 'soil_wet': 226.71, 'soil_dry': 176.9, 'gwc': 28.15, 'bd': 0.86, 'vwc': 24.46, 'site_no': 21}, {'date': '2016-07-25', 'label': '42', 'loc': '14', 'depth': '25 to 30 cm', 'vol': 'Vol.', 'total_wet': 296.82, 'total_dry': 233.69, 'tare': 11.8, 'soil_wet': 285.01, 'soil_dry': 221.88, 'gwc': 28.45, 'bd': 1.08, 'vwc': 31.01, 'site_no': 21}, {'date': '2016-07-25', 'label': '43', 'loc': '15', 'depth': '0 to 5 cm', 'vol': 'Grav.', 'total_wet': 95.96, 'total_dry': 81.16, 'tare': 4.5, 'soil_wet': 91.45, 'soil_dry': 76.65, 'gwc': 19.3, 'bd': 0.0, 'vwc': 17.54, 'site_no': 21}, {'date': '2016-07-25', 'label': '44', 'loc': '15', 'depth': '10 to 15 cm', 'vol': 'Grav.', 'total_wet': 59.68, 'total_dry': 49.3, 'tare': 4.5, 'soil_wet': 55.17, 'soil_dry': 44.79, 'gwc': 23.17, 'bd': 0.0, 'vwc': 22.02, 'site_no': 21}, {'date': '2016-07-25', 'label': '45', 'loc': '15', 'depth': '25 to 30 cm', 'vol': 'Grav.', 'total_wet': 48.19, 'total_dry': 40.2, 'tare': 4.5, 'soil_wet': 43.68, 'soil_dry': 35.69, 'gwc': 22.38, 'bd': 0.0, 'vwc': 27.78, 'site_no': 21}, {'date': '2016-07-25', 'label': '46', 'loc': '16', 'depth': '0 to 5 cm', 'vol': 'Vol.', 'total_wet': 247.55, 'total_dry': 203.06, 'tare': 11.8, 'soil_wet': 235.74, 'soil_dry': 191.25, 'gwc': 23.26, 'bd': 0.93, 'vwc': 21.85, 'site_no': 21}, {'date': '2016-07-25', 'label': '47', 'loc': '16', 'depth': '10 to 15 cm', 'vol': 'Vol.', 'total_wet': 280.89, 'total_dry': 220.56, 'tare': 11.8, 'soil_wet': 269.08, 'soil_dry': 208.75, 'gwc': 28.89, 'bd': 1.02, 'vwc': 29.63, 'site_no': 21}, {'date': '2016-07-25', 'label': '48', 'loc': '16', 'depth': '25 to 30 cm', 'vol': 'Vol.', 'total_wet': 344.77, 'total_dry': 271.26, 'tare': 11.8, 'soil_wet': 332.96, 'soil_dry': 259.45, 'gwc': 28.33, 'bd': 1.27, 'vwc': 36.1, 'site_no': 21}, {'date': '2016-07-25', 'label': '49', 'loc': '17', 'depth': '0 to 5 cm', 'vol': 'Grav.', 'total_wet': 78.61, 'total_dry': 67.11, 'tare': 4.5, 'soil_wet': 74.1, 'soil_dry': 62.6, 'gwc': 18.36, 'bd': 0.0, 'vwc': 16.69, 'site_no': 21}, {'date': '2016-07-25', 'label': '50', 'loc': '17', 'depth': '10 to 15 cm', 'vol': 'Grav.', 'total_wet': 74.78, 'total_dry': 60.69, 'tare': 4.5, 'soil_wet': 70.27, 'soil_dry': 56.18, 'gwc': 25.07, 'bd': 0.0, 'vwc': 23.83, 'site_no': 21}, {'date': '2016-07-25', 'label': '51', 'loc': '17', 'depth': '25 to 30 cm', 'vol': 'Grav.', 'total_wet': 70.9, 'total_dry': 57.27, 'tare': 4.5, 'soil_wet': 66.39, 'soil_dry': 52.76, 'gwc': 25.83, 'bd': 0.0, 'vwc': 32.06, 'site_no': 21}, {'date': '2016-07-25', 'label': '52', 'loc': '18', 'depth': '0 to 5 cm', 'vol': 'Vol.', 'total_wet': 248.92, 'total_dry': 211.4, 'tare': 11.8, 'soil_wet': 237.11, 'soil_dry': 199.59, 'gwc': 18.79, 'bd': 0.98, 'vwc': 18.43, 'site_no': 21}, {'date': '2016-07-25', 'label': '53', 'loc': '18', 'depth': '10 to 15 cm', 'vol': 'Vol.', 'total_wet': 273.3, 'total_dry': 217.78, 'tare': 11.8, 'soil_wet': 261.49, 'soil_dry': 205.97, 'gwc': 26.95, 'bd': 1.01, 'vwc': 27.27, 'site_no': 21}, {'date': '2016-07-25', 'label': '54', 'loc': '18', 'depth': '25 to 30 cm', 'vol': 'Vol.', 'total_wet': 314.48, 'total_dry': 250.23, 'tare': 11.8, 'soil_wet': 302.67, 'soil_dry': 238.42, 'gwc': 26.94, 'bd': 1.17, 'vwc': 31.56, 'site_no': 21}, {'date': '2016-07-25', 'label': '55', 'loc': '19', 'depth': '0 to 5 cm', 'vol': 'Grav.', 'total_wet': 61.36, 'total_dry': 49.36, 'tare': 4.5, 'soil_wet': 56.85, 'soil_dry': 44.85, 'gwc': 26.75, 'bd': 0.0, 'vwc': 24.31, 'site_no': 21}, {'date': '2016-07-25', 'label': '56', 'loc': '19', 'depth': '10 to 15 cm', 'vol': 'Grav.', 'total_wet': 60.5, 'total_dry': 48.68, 'tare': 4.5, 'soil_wet': 55.99, 'soil_dry': 44.17, 'gwc': 26.75, 'bd': 0.0, 'vwc': 25.43, 'site_no': 21}, {'date': '2016-07-25', 'label': '57', 'loc': '19', 'depth': '25 to 30 cm', 'vol': 'Grav.', 'total_wet': 64.37, 'total_dry': 51.5, 'tare': 4.5, 'soil_wet': 59.86, 'soil_dry': 46.99, 'gwc': 27.38, 'bd': 0.0, 'vwc': 33.99, 'site_no': 21}, {'date': '2016-07-25', 'label': '58', 'loc': '20', 'depth': '0 to 5 cm', 'vol': 'Vol.', 'total_wet': 205.09, 'total_dry': 170.24, 'tare': 11.8, 'soil_wet': 193.28, 'soil_dry': 158.43, 'gwc': 21.99, 'bd': 0.77, 'vwc': 17.11, 'site_no': 21}, {'date': '2016-07-25', 'label': '59', 'loc': '20', 'depth': '10 to 15 cm', 'vol': 'Vol.', 'total_wet': 213.17, 'total_dry': 165.7, 'tare': 11.8, 'soil_wet': 201.36, 'soil_dry': 153.89, 'gwc': 30.84, 'bd': 0.75, 'vwc': 23.31, 'site_no': 21}, {'date': '2016-07-25', 'label': '60', 'loc': '20', 'depth': '25 to 30 cm', 'vol': 'Vol.', 'total_wet': 366.23, 'total_dry': 286.87, 'tare': 11.8, 'soil_wet': 354.42, 'soil_dry': 275.06, 'gwc': 28.85, 'bd': 1.35, 'vwc': 38.98, 'site_no': 21}, {'date': '2016-07-25', 'label': '61', 'loc': '21', 'depth': '0 to 5 cm', 'vol': 'Grav.', 'total_wet': 105.27, 'total_dry': 86.24, 'tare': 4.5, 'soil_wet': 100.76, 'soil_dry': 81.73, 'gwc': 23.28, 'bd': 0.0, 'vwc': 21.16, 'site_no': 21}, {'date': '2016-07-25', 'label': '62', 'loc': '21', 'depth': '10 to 15 cm', 'vol': 'Grav.', 'total_wet': 61.26, 'total_dry': 50.3, 'tare': 4.5, 'soil_wet': 56.75, 'soil_dry': 45.79, 'gwc': 23.93, 'bd': 0.0, 'vwc': 22.74, 'site_no': 21}, {'date': '2016-07-25', 'label': '63', 'loc': '21', 'depth': '25 to 30 cm', 'vol': 'Grav.', 'total_wet': 75.21, 'total_dry': 60.65, 'tare': 4.5, 'soil_wet': 70.7, 'soil_dry': 56.14, 'gwc': 25.93, 'bd': 0.0, 'vwc': 32.18, 'site_no': 21}, {'date': '2016-07-25', 'label': '64', 'loc': '22', 'depth': '0 to 5 cm', 'vol': 'Vol.', 'total_wet': 260.53, 'total_dry': 217.15, 'tare': 11.8, 'soil_wet': 248.72, 'soil_dry': 205.34, 'gwc': 21.12, 'bd': 1.0, 'vwc': 21.3, 'site_no': 21}, {'date': '2016-07-25', 'label': '65', 'loc': '22', 'depth': '10 to 15 cm', 'vol': 'Vol.', 'total_wet': 261.59, 'total_dry': 205.17, 'tare': 11.8, 'soil_wet': 249.78, 'soil_dry': 193.36, 'gwc': 29.17, 'bd': 0.94, 'vwc': 27.71, 'site_no': 21}, {'date': '2016-07-25', 'label': '66', 'loc': '22', 'depth': '25 to 30 cm', 'vol': 'Vol.', 'total_wet': 306.67, 'total_dry': 239.51, 'tare': 11.8, 'soil_wet': 294.86, 'soil_dry': 227.7, 'gwc': 29.49, 'bd': 1.11, 'vwc': 32.99, 'site_no': 21}, {'date': '2016-07-25', 'label': '67', 'loc': '23', 'depth': '0 to 5 cm', 'vol': 'Grav.', 'total_wet': 133.09, 'total_dry': 113.45, 'tare': 4.5, 'soil_wet': 128.58, 'soil_dry': 108.94, 'gwc': 18.02, 'bd': 0.0, 'vwc': 16.38, 'site_no': 21}, {'date': '2016-07-25', 'label': '68', 'loc': '23', 'depth': '10 to 15 cm', 'vol': 'Grav.', 'total_wet': 78.23, 'total_dry': 65.21, 'tare': 4.5, 'soil_wet': 73.72, 'soil_dry': 60.7, 'gwc': 21.44, 'bd': 0.0, 'vwc': 20.38, 'site_no': 21}, {'date': '2016-07-25', 'label': '69', 'loc': '23', 'depth': '25 to 30 cm', 'vol': 'Grav.', 'total_wet': 67.8, 'total_dry': 55.48, 'tare': 4.5, 'soil_wet': 63.29, 'soil_dry': 50.97, 'gwc': 24.16, 'bd': 0.0, 'vwc': 29.99, 'site_no': 21}, {'date': '2016-07-25', 'label': '70', 'loc': '24', 'depth': '0 to 5 cm', 'vol': 'Vol.', 'total_wet': 225.48, 'total_dry': 191.61, 'tare': 11.8, 'soil_wet': 213.67, 'soil_dry': 179.8, 'gwc': 18.83, 'bd': 0.88, 'vwc': 16.63, 'site_no': 21}, {'date': '2016-07-25', 'label': '71', 'loc': '24', 'depth': '10 to 15 cm', 'vol': 'Vol.', 'total_wet': 269.38, 'total_dry': 215.33, 'tare': 11.8, 'soil_wet': 257.57, 'soil_dry': 203.52, 'gwc': 26.55, 'bd': 0.99, 'vwc': 26.55, 'site_no': 21}, {'date': '2016-07-25', 'label': '72', 'loc': '24', 'depth': '25 to 30 cm', 'vol': 'Vol.', 'total_wet': 370.3, 'total_dry': 296.97, 'tare': 11.8, 'soil_wet': 358.49, 'soil_dry': 285.16, 'gwc': 25.71, 'bd': 1.4, 'vwc': 36.02, 'site_no': 21}]\n"
     ],
     "output_type": "stream"
    }
   ],
   "source": [
    "# Print calibration details\n",
    "count = payload['meta']['count']\n",
    "print(\"Found {} calibrations for station {}.\".format(str(count), str(STATION_NUMBER)))\n",
    "for k, v in payload.items():\n",
    "    print(\"{}: {}\".format(str(k), str(v)))\n",
    "\n"
   ],
   "metadata": {
    "collapsed": false,
    "pycharm": {
     "name": "#%%\n",
     "is_executing": false
    }
   }
  }
 ],
 "metadata": {
  "kernelspec": {
   "display_name": "Python 3",
   "language": "python",
   "name": "python3"
  },
  "language_info": {
   "codemirror_mode": {
    "name": "ipython",
    "version": 2
   },
   "file_extension": ".py",
   "mimetype": "text/x-python",
   "name": "python",
   "nbconvert_exporter": "python",
   "pygments_lexer": "ipython2",
   "version": "2.7.6"
  },
  "pycharm": {
   "stem_cell": {
    "cell_type": "raw",
    "source": [],
    "metadata": {
     "collapsed": false
    }
   }
  }
 },
 "nbformat": 4,
 "nbformat_minor": 0
}
