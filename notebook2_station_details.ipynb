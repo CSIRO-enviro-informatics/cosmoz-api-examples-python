{
 "cells": [
  {
   "cell_type": "markdown",
   "source": [
    "## Example 2: Station Details\n",
    "\n",
    "This example gets details of a single CosmOz station\n"
   ],
   "metadata": {
    "collapsed": false,
    "pycharm": {
     "name": "#%% md\n"
    }
   }
  },
  {
   "cell_type": "code",
   "execution_count": 1,
   "outputs": [],
   "source": [
    "# Do some imports\n",
    "from urllib.request import Request, urlopen\n",
    "from urllib.parse import urljoin\n",
    "import json"
   ],
   "metadata": {
    "collapsed": false,
    "pycharm": {
     "name": "#%%\n",
     "is_executing": false
    }
   }
  },
  {
   "cell_type": "code",
   "execution_count": 2,
   "outputs": [],
   "source": [
    "# Set up a known api endpoint base URL\n",
    "COSMOZ_API_URL = \"https://esoil.io/cosmoz-data-pipeline/rest/\" \n",
    "\n",
    "# Set const for which station number to request:\n",
    "STATION_NUMBER = 21"
   ],
   "metadata": {
    "collapsed": false,
    "pycharm": {
     "name": "#%%\n",
     "is_executing": false
    }
   }
  },
  {
   "cell_type": "code",
   "execution_count": 3,
   "outputs": [],
   "source": [
    "# Endpoint to get a station is \"pipeline/rest/stations/{id}\"\n",
    "stations_endpoint = urljoin(COSMOZ_API_URL, \"stations/\")\n",
    "station_endpoint = urljoin(stations_endpoint, str(STATION_NUMBER))"
   ],
   "metadata": {
    "collapsed": false,
    "pycharm": {
     "name": "#%%\n",
     "is_executing": false
    }
   }
  },
  {
   "cell_type": "code",
   "execution_count": 4,
   "outputs": [],
   "source": [
    "# Add a header to specifically ask for JSON output\n",
    "request_headers = {\"Accept\": \"application/json\"}\n",
    "\n",
    "# Construct a GET request, with that URL and those headers\n",
    "station_request = Request(station_endpoint, method=\"GET\", headers=request_headers)"
   ],
   "metadata": {
    "collapsed": false,
    "pycharm": {
     "name": "#%%\n",
     "is_executing": false
    }
   }
  },
  {
   "cell_type": "code",
   "execution_count": 5,
   "outputs": [
    {
     "name": "stdout",
     "text": [
      "sending request...\n",
      "response received successfully\n"
     ],
     "output_type": "stream"
    }
   ],
   "source": [
    "print(\"sending request...\")\n",
    "# Execute the request, and wait for the response.\n",
    "with urlopen(station_request) as http_response:\n",
    "    try:\n",
    "        response = http_response.read()\n",
    "    except Exception:\n",
    "        raise RuntimeError(\"Cannot read HTTP Response\")\n",
    "    try:\n",
    "        payload = json.loads(response)\n",
    "    except Exception:\n",
    "        raise RuntimeError(\"Invalid JSON response\")\n",
    "    print(\"response received successfully\")"
   ],
   "metadata": {
    "collapsed": false,
    "pycharm": {
     "name": "#%%\n",
     "is_executing": false
    }
   }
  },
  {
   "cell_type": "code",
   "execution_count": 6,
   "outputs": [
    {
     "name": "stdout",
     "text": [
      "Station 21 details:\n",
      "\tsite_no: 21\n",
      "\tsite_name: Bullawarrie\n",
      "\ttube_type: CRS-1000B\n",
      "\tnetwork: CosmOz\n",
      "\timei: 300234011635850\n",
      "\tsat_data_select: c2p1t1h1bn1s1d1w7p6t2h2         \n",
      "\thydroinnova_serial_no: \n",
      "\tlatitude: -28.80932\n",
      "\tlongitude: 148.76512\n",
      "\taltitude: 166.0\n",
      "\tinstallation_date: 2016-07-26T00:00:00Z\n",
      "\tcontact: \n",
      "\temail: \n",
      "\tsite_description: This site is located in QueenslandÂs south-western grain belt near Mungindi and is representative of broad-acre cropping on cracking clays. Soils are formed from alluvium on the Moonie River floodplain. Winter crops (wheat, chickpea) predominate which are dependent on stored soil water for reliable grain yields. \n",
      "The site is adjacent to two GRDC sponsored cropping studies managed by: the Queensland Department of Agriculture and Fisheries; and the Northern Grower Alliance. The soil type is broadly classed as a grey vertosol or cracking clay with a plant available water capacity of ~180mm. The landscape has low relief and experiences occasional flooding.\n",
      "\n",
      "\tcalibration_type: V\n",
      "\ttimezone: 10 \n",
      "\tref_pressure: 993.5035004\n",
      "\tref_intensity: 159.247\n",
      "\tcutoff_rigidity: 5.92\n",
      "\telev_scaling: 0.86\n",
      "\tlatit_scaling: 0.81\n",
      "\tscaling: 1.0\n",
      "\tbeta: 0.0075\n",
      "\tn0_cal: 1481.0\n",
      "\tbulk_density: 1.03\n",
      "\tlattice_water_g_g: 0.055\n",
      "\tsoil_organic_matter_g_g: 0.007\n",
      "\tsite_photo_name: Bronco.jpg\n",
      "\tnmdb: JUNG\n"
     ],
     "output_type": "stream"
    }
   ],
   "source": [
    "# Print station details\n",
    "print(\"Station {} details:\".format(str(STATION_NUMBER)))\n",
    "for k, v in payload.items():\n",
    "    print(\"\\t{}: {}\".format(str(k), str(v)))\n",
    "\n"
   ],
   "metadata": {
    "collapsed": false,
    "pycharm": {
     "name": "#%%\n",
     "is_executing": false
    }
   }
  }
 ],
 "metadata": {
  "kernelspec": {
   "display_name": "Python 3",
   "language": "python",
   "name": "python3"
  },
  "language_info": {
   "codemirror_mode": {
    "name": "ipython",
    "version": 2
   },
   "file_extension": ".py",
   "mimetype": "text/x-python",
   "name": "python",
   "nbconvert_exporter": "python",
   "pygments_lexer": "ipython2",
   "version": "2.7.6"
  },
  "pycharm": {
   "stem_cell": {
    "cell_type": "raw",
    "source": [],
    "metadata": {
     "collapsed": false
    }
   }
  }
 },
 "nbformat": 4,
 "nbformat_minor": 0
}
