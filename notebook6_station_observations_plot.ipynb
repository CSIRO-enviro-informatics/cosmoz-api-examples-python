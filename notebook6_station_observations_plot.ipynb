{
 "cells": [
  {
   "cell_type": "markdown",
   "source": [
    "## Example 6: Plot some observations\n",
    "\n",
    "This example gets some Sensor Observations from a given Cosmoz station, for a month, aggregated to 512 points,\n",
    "and plotted using matplotlib\n"
   ],
   "metadata": {
    "collapsed": false,
    "pycharm": {
     "name": "#%% md\n"
    }
   }
  },
  {
   "cell_type": "code",
   "execution_count": 1,
   "outputs": [],
   "source": [
    "# Do some imports\n",
    "from urllib.request import Request, urlopen\n",
    "from urllib.parse import urljoin, urlencode\n",
    "from datetime import datetime, timezone\n",
    "import numpy as np\n",
    "import json"
   ],
   "metadata": {
    "collapsed": false,
    "pycharm": {
     "name": "#%%\n",
     "is_executing": false
    }
   }
  },
  {
   "cell_type": "code",
   "execution_count": 2,
   "outputs": [],
   "source": [
    "# Set up a known api endpoint base URL\n",
    "COSMOZ_API_URL = \"https://esoil.io/cosmoz-data-pipeline/rest/\" \n",
    "\n",
    "# Set const for which station number to request:\n",
    "STATION_NUMBER = 21\n",
    "PROCESSING_LEVEL = 4  # Choose processing level 1, 2, 3, 4, or 0 (for Raw)"
   ],
   "metadata": {
    "collapsed": false,
    "pycharm": {
     "name": "#%%\n",
     "is_executing": false
    }
   }
  },
  {
   "cell_type": "code",
   "execution_count": 3,
   "outputs": [],
   "source": [
    "# Endpoint to get a station's observations is \"pipeline/rest/stations/{id}/observations\"\n",
    "stations_endpoint = urljoin(COSMOZ_API_URL, \"stations/\")\n",
    "station_endpoint = urljoin(stations_endpoint, \"{}/\".format(str(STATION_NUMBER)))\n",
    "station_obs_endpoint = urljoin(station_endpoint, \"observations\")"
   ],
   "metadata": {
    "collapsed": false,
    "pycharm": {
     "name": "#%%\n",
     "is_executing": false
    }
   }
  },
  {
   "cell_type": "code",
   "execution_count": 4,
   "outputs": [],
   "source": [
    "# Time Period Start Date\n",
    "start_date = datetime(2019, 1, 1, tzinfo=timezone.utc)\n",
    "start_date_str = start_date.strftime(\"%Y-%m-%dT%H:%M:%S.000Z\")  # ISO8601 Format\n",
    "# Time Period End Date\n",
    "end_date = datetime(2019, 1, 31, tzinfo=timezone.utc)\n",
    "end_date_str = end_date.strftime(\"%Y-%m-%dT%H:%M:%S.000Z\")  # ISO8601 Format\n",
    "\n",
    "# Aggregate the whole month into 512 slices\n",
    "t_delta = end_date - start_date\n",
    "delta_seconds = (t_delta.days * (60 * 60 * 24)) + t_delta.seconds\n",
    "# Use 511, because there are 511 steps in 512 slices\n",
    "step_seconds = delta_seconds // 511  # Integer divide, not floating point\n",
    "if (step_seconds % 511) != 0:\n",
    "    step_seconds += 1  # Add one if the total seconds doesn't divide cleanly into 511"
   ],
   "metadata": {
    "collapsed": false,
    "pycharm": {
     "name": "#%%\n",
     "is_executing": false
    }
   }
  },
  {
   "cell_type": "code",
   "execution_count": 5,
   "outputs": [],
   "source": [
    "# Add request query params\n",
    "query_params = {\n",
    "    \"processing_level\": PROCESSING_LEVEL,\n",
    "    \"startdate\": start_date_str,\n",
    "    \"enddate\": end_date_str,\n",
    "\t\"aggregate\": \"{}s\".format(str(step_seconds))  # Set aggregation to step seconds\n",
    "}\n",
    "query_params = urlencode(query_params)\n",
    "station_obs_url = \"{}?{}\".format(station_obs_endpoint, query_params)"
   ],
   "metadata": {
    "collapsed": false,
    "pycharm": {
     "name": "#%%\n",
     "is_executing": false
    }
   }
  },
  {
   "cell_type": "code",
   "execution_count": 6,
   "outputs": [],
   "source": [
    "# Add a header to specifically ask for JSON output\n",
    "request_headers = {\"Accept\": \"application/json\"}\n",
    "\n",
    "# Construct a GET request, with that URL and those headers\n",
    "station_obs_request = Request(station_obs_url, method=\"GET\", headers=request_headers)"
   ],
   "metadata": {
    "collapsed": false,
    "pycharm": {
     "name": "#%%\n",
     "is_executing": false
    }
   }
  },
  {
   "cell_type": "code",
   "execution_count": 7,
   "outputs": [
    {
     "name": "stdout",
     "text": [
      "sending request...\n",
      "response received successfully\n"
     ],
     "output_type": "stream"
    }
   ],
   "source": [
    "print(\"sending request...\")\n",
    "# Execute the request, and wait for the response.\n",
    "with urlopen(station_obs_request) as http_response:\n",
    "    try:\n",
    "        response = http_response.read()\n",
    "    except Exception:\n",
    "        raise RuntimeError(\"Cannot read HTTP Response\")\n",
    "    try:\n",
    "        payload = json.loads(response)\n",
    "    except Exception:\n",
    "        raise RuntimeError(\"Invalid JSON response\")\n",
    "    print(\"response received successfully\")"
   ],
   "metadata": {
    "collapsed": false,
    "pycharm": {
     "name": "#%%\n",
     "is_executing": false
    }
   }
  },
  {
   "cell_type": "code",
   "execution_count": 8,
   "outputs": [
    {
     "name": "stdout",
     "text": [
      "Got Observations Meta:\n",
      "\tsite_no: 21\n",
      "\tprocessing_level: 4\n",
      "\tcount: 512\n",
      "\toffset: 0\n",
      "\tstart_date: 2019-01-01T00:00:00Z\n",
      "\tend_date: 2019-01-31T00:00:00Z\n",
      "\taggregation: 5073s\n"
     ],
     "output_type": "stream"
    }
   ],
   "source": [
    "# Print observation details\n",
    "print(\"Got Observations Meta:\")\n",
    "for k, v in payload['meta'].items():\n",
    "    print(\"\\t{}: {}\".format(str(k), str(v)))\n"
   ],
   "metadata": {
    "collapsed": false,
    "pycharm": {
     "name": "#%%\n",
     "is_executing": false
    }
   }
  },
  {
   "cell_type": "code",
   "execution_count": 10,
   "outputs": [
    {
     "data": {
      "text/plain": "Canvas(toolbar=Toolbar(toolitems=[('Home', 'Reset original view', 'home', 'home'), ('Back', 'Back to previous …",
      "application/vnd.jupyter.widget-view+json": {
       "version_major": 2,
       "version_minor": 0,
       "model_id": "5be6586714ff4e48b0fd6e9e72ec7e22"
      }
     },
     "metadata": {},
     "output_type": "display_data"
    }
   ],
   "source": [
    "%matplotlib ipympl\n",
    "import matplotlib.pyplot as plt\n",
    "count = int(payload['meta']['count'])\n",
    "observations = payload['observations']\n",
    "# Plot figure\n",
    "min_soil_moist_filtered_iter = (o['min_soil_moist_filtered'] for o in observations)\n",
    "max_soil_moist_filtered_iter = (o['max_soil_moist_filtered'] for o in observations)\n",
    "mean_soil_moist_filtered_iter = (o['mean_soil_moist_filtered'] for o in observations)\n",
    "x_tick_stride = count // 10\n",
    "if count % 10 != 0:\n",
    "    x_tick_stride += 1\n",
    "all_x_labels = [o['time'] for o in observations]\n",
    "selected_x_labels = []\n",
    "selected_x_vals = []\n",
    "for c in range(0, count, x_tick_stride):\n",
    "    selected_x_vals.append(c)\n",
    "    selected_x_labels.append(all_x_labels[c])\n",
    "selected_x_vals.append(count-1)\n",
    "selected_x_labels.append(all_x_labels[-1])\n",
    "\n",
    "min_array = np.fromiter(min_soil_moist_filtered_iter, dtype=np.float)\n",
    "max_array = np.fromiter(max_soil_moist_filtered_iter, dtype=np.float)\n",
    "mean_array = np.fromiter(mean_soil_moist_filtered_iter, dtype=np.float)\n",
    "t = np.arange(count)\n",
    "fig, ax = plt.subplots(1, dpi=128)\n",
    "ax.plot(t, mean_array, lw=1, label='soil moisture', color='blue')\n",
    "ax.set_ylim(0, None)\n",
    "ax.set_xticks(selected_x_vals)\n",
    "ax.set_xticklabels(selected_x_labels, rotation=79)\n",
    "ax.fill_between(t, max_array, min_array, facecolor='blue', alpha=0.5)\n",
    "ax.set_title(\"Example of plotting soil moisture vs time for a 1 month period\")\n",
    "ax.legend(loc='upper left')\n",
    "ax.set_xlabel('date and time')\n",
    "ax.set_ylabel('volumetric soil moisture m³/m³')\n",
    "ax.grid()\n",
    "fig.show()\n",
    "\n"
   ],
   "metadata": {
    "collapsed": false,
    "pycharm": {
     "name": "#%%\n",
     "is_executing": false
    }
   }
  }
 ],
 "metadata": {
  "kernelspec": {
   "display_name": "Python 3",
   "language": "python",
   "name": "python3"
  },
  "language_info": {
   "codemirror_mode": {
    "name": "ipython",
    "version": 2
   },
   "file_extension": ".py",
   "mimetype": "text/x-python",
   "name": "python",
   "nbconvert_exporter": "python",
   "pygments_lexer": "ipython2",
   "version": "2.7.6"
  },
  "pycharm": {
   "stem_cell": {
    "cell_type": "raw",
    "source": [],
    "metadata": {
     "collapsed": false
    }
   }
  }
 },
 "nbformat": 4,
 "nbformat_minor": 0
}
